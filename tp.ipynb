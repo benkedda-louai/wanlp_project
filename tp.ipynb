{
 "cells": [
  {
   "cell_type": "code",
   "execution_count": 1,
   "metadata": {},
   "outputs": [
    {
     "name": "stdout",
     "output_type": "stream",
     "text": [
      "original sample: عْتَبَرُ الْجَزَائِرُ الْعَاصِمَةُ وَاحِدَةً مِنْ أَجْمَلِ مُدُنِ الْبَحْرِ الْأَبْيَضِ الْمُتَوَسِّطِ، حَيْثُ تَجْمَعُ بَيْنَ التَّارِيخِ الْعَرِيقِ وَالْحَيَاةِ الْعَصْرِيَّةِ. زَارَهَا الصَّحَفِيُّ الْفَرَنْسِيُّ جَانْ بِيير مُؤَخَّرًا، وَعَبَّرَ عَنْ إِعْجَابِهِ بِشَوَارِعِهَا الْوَاسِعَةِ وَمَعَالِمِهَا التَّارِيخِيَّةِ مِثْلَ مَقَامِ الشَّهِيدِ وَقَصْرِ الرِّيَاسِ. فِي تَقْرِيرِهِ لِصَحِيفَة \"لوموند\"، كَتَبَ: \"الْجَزَائِرُ مَدِينَةٌ سَاحِرَةٌ، لَكِنَّ الِازْدِحَامَ الْمُرُورِيَّ يُشَكِّلُ تَحَدِّيًا كَبِيرًا لِسُكَّانِهَا\"\n",
      "فِي الشَّرْقِ، تُعْرَفُ قَسَنْطِينَةُ بِلَقَبِ \"مَدِينَةِ الْجُسُورِ الْمُعَلَّقَةِ\". قَالَ الدُّكْتُورُ محمد بن علي، أُسْتَاذُ التَّارِيخِ فِي جَامِعَةِ قَسَنْطِينَةَ، إِنَّ الْمَدِينَةَ تَحْتَفِظُ بِطَابِعِهَا الثَّقَافِيِّ الْفَرِيدِ رَغْمَ التَّغَيُّرَاتِ الْحَدِيثَةِ. مِنْ جِهَتِهِ، صَرَّحَ السَّائِحُ الْإِسْبَانِيُّ مَانُوِيلْ غَارْسِيَا: \"لَطَالَمَا سَمِعْتُ عَنْ جَمَالِ قَسَنْطِينَةَ، لَكِنَّ رُؤْيَتَهَا عَلَى الطَّبِيعَةِ كَانَتْ تَجْرِبَةً مُذْهِلَةً!\"\n",
      "أَمَّا فِي الْغَرْبِ، فَتُعْرَفُ وَهْرَانُ بِمَهْرَجَانِهَا الْمُوسِيقِيِّ السَّنَوِيِّ الَّذِي يَجْذِبُ فَنَّانِينَ عَالَمِيِّينَ. وَصَفَ النَّاقِدُ الْمُوسِيقِيُّ فَرِيدُ الْعَيَّاشِيِّ الْمَهْرَجَانَ بِقَوْلِهِ: \"وَهْرَانُ تَبْقَى عَاصِمَةَ الْفَنِّ الْجَزَائِرِيِّ بِلَا مُنَازِعٍ!\" رَغْمَ ذَلِكَ، أَشَارَ الْبَعْضُ إِلَى أَنَّ الْبُنْيَةَ التَّحْتِيَّةَ تَحْتَاجُ إِلَى تَحْسِينٍ لِمُوَاكَبَةِ التَّطَوُّرِ السِّيَاحِيِّ.\n",
      "\n",
      "sample segmented: عتبر ال+جزائر ال+عاصم+ة واحد+ة من أجمل مدن ال+بحر ال+أبيض ال+متوسط ، حيث تجمع بين ال+تاريخ ال+عريق و+ال+حيا+ة ال+عصري+ة . زار+ها ال+صحفي ال+فرنسي جان بيير مؤخر+ا ، و+عبر عن إعجاب+ه ب+شوارع+ها ال+واسع+ة و+معالم+ها ال+تاريخي+ة مثل مقام ال+شهيد و+قصر ال+رياس . في تقرير+ه ل+صحيف+ة \" لوموند \" ، كتب : \" ال+جزائر مدين+ة ساحر+ة ، لكن ال+ازدحام ال+مروري يشكل تحدي+ا كبير+ا ل+سكان+ها \" \n",
      "في ال+شرق ، تعرف قسنطينة ب+لقب \" مدين+ة ال+جسور ال+معلق+ة \" . قال ال+دكتور محمد بن علي ، أستاذ ال+تاريخ في جامع+ة قسنطينة ، إن ال+مدين+ة تحتفظ ب+طابع+ها ال+ثقافي ال+فريد رغم ال+تغير+ات ال+حديث+ة . من جه+ت+ه ، صرح ال+سائح ال+إسباني مانويل غارسيا : \" ل+طالما سمع+ت عن جمال قسنطينة ، لكن رؤي+ت+ها على ال+طبيع+ة كان+ت تجرب+ة مذهل+ة ! \" \n",
      "أما في ال+غرب ، ف+تعرف وهران ب+مهرجان+ها ال+موسيقي ال+سنوي الذي يجذب فنان+ين عالمي+ين . وصف ال+ناقد ال+موسيقي فريد ال+عياشي ال+مهرجان ب+قول+ه : \" وهران تبقى عاصم+ة ال+فن ال+جزائري ب+لا منازع ! \" رغم ذلك ، أشار ال+بعض إلى أن ال+بني+ة ال+تحتي+ة تحتاج إلى تحسين ل+مواكب+ة ال+تطور ال+سياحي .\n"
     ]
    }
   ],
   "source": [
    "from farasa.pos import FarasaPOSTagger\n",
    "from farasa.ner import FarasaNamedEntityRecognizer\n",
    "from farasa.diacratizer import FarasaDiacritizer\n",
    "from farasa.segmenter import FarasaSegmenter\n",
    "from farasa.stemmer import FarasaStemmer\n",
    "\n",
    "\n",
    "sample =\\\n",
    "'''عْتَبَرُ الْجَزَائِرُ الْعَاصِمَةُ وَاحِدَةً مِنْ أَجْمَلِ مُدُنِ الْبَحْرِ الْأَبْيَضِ الْمُتَوَسِّطِ، حَيْثُ تَجْمَعُ بَيْنَ التَّارِيخِ الْعَرِيقِ وَالْحَيَاةِ الْعَصْرِيَّةِ. زَارَهَا الصَّحَفِيُّ الْفَرَنْسِيُّ جَانْ بِيير مُؤَخَّرًا، وَعَبَّرَ عَنْ إِعْجَابِهِ بِشَوَارِعِهَا الْوَاسِعَةِ وَمَعَالِمِهَا التَّارِيخِيَّةِ مِثْلَ مَقَامِ الشَّهِيدِ وَقَصْرِ الرِّيَاسِ. فِي تَقْرِيرِهِ لِصَحِيفَة \"لوموند\"، كَتَبَ: \"الْجَزَائِرُ مَدِينَةٌ سَاحِرَةٌ، لَكِنَّ الِازْدِحَامَ الْمُرُورِيَّ يُشَكِّلُ تَحَدِّيًا كَبِيرًا لِسُكَّانِهَا\"\n",
    "فِي الشَّرْقِ، تُعْرَفُ قَسَنْطِينَةُ بِلَقَبِ \"مَدِينَةِ الْجُسُورِ الْمُعَلَّقَةِ\". قَالَ الدُّكْتُورُ محمد بن علي، أُسْتَاذُ التَّارِيخِ فِي جَامِعَةِ قَسَنْطِينَةَ، إِنَّ الْمَدِينَةَ تَحْتَفِظُ بِطَابِعِهَا الثَّقَافِيِّ الْفَرِيدِ رَغْمَ التَّغَيُّرَاتِ الْحَدِيثَةِ. مِنْ جِهَتِهِ، صَرَّحَ السَّائِحُ الْإِسْبَانِيُّ مَانُوِيلْ غَارْسِيَا: \"لَطَالَمَا سَمِعْتُ عَنْ جَمَالِ قَسَنْطِينَةَ، لَكِنَّ رُؤْيَتَهَا عَلَى الطَّبِيعَةِ كَانَتْ تَجْرِبَةً مُذْهِلَةً!\"\n",
    "أَمَّا فِي الْغَرْبِ، فَتُعْرَفُ وَهْرَانُ بِمَهْرَجَانِهَا الْمُوسِيقِيِّ السَّنَوِيِّ الَّذِي يَجْذِبُ فَنَّانِينَ عَالَمِيِّينَ. وَصَفَ النَّاقِدُ الْمُوسِيقِيُّ فَرِيدُ الْعَيَّاشِيِّ الْمَهْرَجَانَ بِقَوْلِهِ: \"وَهْرَانُ تَبْقَى عَاصِمَةَ الْفَنِّ الْجَزَائِرِيِّ بِلَا مُنَازِعٍ!\" رَغْمَ ذَلِكَ، أَشَارَ الْبَعْضُ إِلَى أَنَّ الْبُنْيَةَ التَّحْتِيَّةَ تَحْتَاجُ إِلَى تَحْسِينٍ لِمُوَاكَبَةِ التَّطَوُّرِ السِّيَاحِيِّ.\n",
    "'''\n",
    "\n",
    "print(\"original sample:\",sample)\n",
    "\n",
    "segmenter = FarasaSegmenter()\n",
    "\n",
    "segmented = segmenter.segment(sample)\n",
    "print(\"sample segmented:\",segmented)"
   ]
  },
  {
   "cell_type": "markdown",
   "metadata": {},
   "source": [
    "### Stemming And Lemmatisation"
   ]
  },
  {
   "cell_type": "code",
   "execution_count": null,
   "metadata": {},
   "outputs": [],
   "source": []
  },
  {
   "cell_type": "markdown",
   "metadata": {},
   "source": [
    "### POS Tagger"
   ]
  },
  {
   "cell_type": "code",
   "execution_count": 3,
   "metadata": {},
   "outputs": [
    {
     "name": "stdout",
     "output_type": "stream",
     "text": [
      "sample POS Tagged S/S عتبر/NOUN-MS ال+ جزائر/DET+NOUN-MS ال+ عاصم +ة/DET+NOUN+NSUFF-FS واحد +ة/ADJ+NSUFF-FP من/PREP أجمل/NOUN-FP مدن/NOUN-FP ال+ بحر/DET+NOUN-MS ال+ أبيض/DET+ADJ-MS ال+ متوسط/DET+ADJ-MS ،/PUNC حيث/PART تجمع/V بين/NOUN-MS ال+ تاريخ/DET+NOUN-MS ال+ عريق/DET+ADJ-MS و+/CONJ ال+ حيا +ة/DET+NOUN+NSUFF-FS ال+ عصري +ة/DET+ADJ+NSUFF-FS ./PUNC زار/V +ها/PRON ال+ صحفي/DET+NOUN-MS ال+ فرنسي/DET+ADJ-MS جان/NOUN-FP بيير/NOUN-MS مؤخر/ADJ-MS +ا/CASE ،/PUNC و+/CONJ عبر/V عن/PREP إعجاب/NOUN-MS +ه/PRON ب+/PREP شوارع/NOUN-FP +ها/PRON ال+ واسع +ة/DET+ADJ+NSUFF-FP و+/CONJ معالم/NOUN-FP +ها/PRON ال+ تاريخي +ة/DET+ADJ+NSUFF-FP مثل/NOUN-MS مقام/NOUN-MS ال+ شهيد/DET+NOUN-MS و+/CONJ قصر/NOUN-MS ال+ رياس/DET+NOUN-MS ./PUNC في/PREP تقرير/NOUN-MS +ه/PRON ل+/PREP صحيف +ة/NOUN+NSUFF-FS \"/PUNC لوموند/NOUN-MS \"/PUNC ،/PUNC كتب/V :/PUNC \"/PUNC ال+ جزائر/DET+NOUN-MS مدين +ة/NOUN+NSUFF-FS ساحر +ة/NOUN+NSUFF-FS ،/PUNC لكن/PART ال+ ازدحام/DET+NOUN-MS ال+ مروري/DET+ADJ-MS يشكل/V تحدي/NOUN-MS +ا/CASE كبير/ADJ-MS +ا/CASE ل+/PREP سكان/NOUN-MP +ها/PRON \"/PUNC E/E \n",
      "S/S في/PREP ال+ شرق/DET+NOUN-MS ،/PUNC تعرف/V قسنطينة/NOUN-MS ب+/PREP لقب/NOUN-MS \"/PUNC مدين +ة/NOUN+NSUFF-FS ال+ جسور/DET+NOUN-MS ال+ معلق +ة/DET+ADJ+NSUFF-FS \"/PUNC ./PUNC قال/V ال+ دكتور/DET+NOUN-MS محمد/NOUN-MS بن/NOUN-MS علي/NOUN-MS ،/PUNC أستاذ/NOUN-MS ال+ تاريخ/DET+NOUN-MS في/PREP جامع +ة/NOUN+NSUFF-FS قسنطينة/NOUN-MS ،/PUNC إن/PART ال+ مدين +ة/DET+NOUN+NSUFF-FS تحتفظ/V ب+/PREP طابع/NOUN-MS +ها/PRON ال+ ثقافي/DET+ADJ-MS ال+ فريد/DET+ADJ-MS رغم/NOUN-MS ال+ تغير +ات/DET+NOUN+NSUFF-FP ال+ حديث +ة/DET+ADJ+NSUFF-FS ./PUNC من/PREP جه +ت/NOUN+NSUFF-FD +ه/PRON ،/PUNC صرح/V ال+ سائح/DET+NOUN-MS ال+ إسباني/DET+ADJ-MS مانويل/NOUN-MS غارسيا/NOUN-MS :/PUNC \"/PUNC ل+/PREP طالما/V+PART سمع +ت/V+PRON عن/PREP جمال/NOUN-MS قسنطينة/NOUN-MS ،/PUNC لكن/PART رؤي +ت/NOUN+NSUFF-FD +ها/PRON على/PREP ال+ طبيع +ة/DET+NOUN+NSUFF-FS كان +ت/V+PRON تجرب +ة/NOUN+NSUFF-FS مذهل +ة/ADJ+NSUFF-FP !/PUNC \"/PUNC E/E \n",
      "S/S أما/PART في/PREP ال+ غرب/DET+NOUN-MS ،/PUNC ف+/CONJ تعرف/V وهران/NOUN-MS ب+/PREP مهرجان/NOUN-MD +ها/PRON ال+ موسيقي/DET+ADJ-MS ال+ سنوي/DET+ADJ-MS الذي/PART يجذب/V فنان +ين/NOUN+NSUFF-MP عالمي +ين/ADJ+NSUFF-FD ./PUNC وصف/V ال+ ناقد/DET+NOUN-MS ال+ موسيقي/DET+ADJ-MS فريد/NOUN-MS ال+ عياشي/DET+NOUN-MS ال+ مهرجان/DET+NOUN-MS ب+/PREP قول/NOUN-MS +ه/PRON :/PUNC \"/PUNC وهران/NOUN-MS تبقى/V عاصم +ة/NOUN+NSUFF-FS ال+ فن/DET+NOUN-MS ال+ جزائري/DET+ADJ-MS ب+/PREP لا/PART منازع/NOUN-FP !/PUNC \"/PUNC رغم/NOUN-MS ذلك/PRON ،/PUNC أشار/V ال+ بعض/DET+NOUN-MS إلى/PREP أن/PART ال+ بني +ة/DET+NOUN+NSUFF-FS ال+ تحتي +ة/DET+ADJ+NSUFF-FS تحتاج/V إلى/PREP تحسين/NOUN-MS ل+/PREP مواكب +ة/NOUN+NSUFF-FP ال+ تطور/DET+NOUN-MS ال+ سياحي/DET+ADJ-MS ./PUNC E/E\n"
     ]
    }
   ],
   "source": [
    "pos_tagger = FarasaPOSTagger()\n",
    "pos_tagged = pos_tagger.tag(sample)\n",
    "print(\"sample POS Tagged\",pos_tagged)"
   ]
  },
  {
   "cell_type": "markdown",
   "metadata": {},
   "source": [
    "### Farasa Named Entity Recognition"
   ]
  },
  {
   "cell_type": "code",
   "execution_count": 4,
   "metadata": {},
   "outputs": [
    {
     "name": "stdout",
     "output_type": "stream",
     "text": [
      "sample named entity recognized: عتبر/O الجزائر/B-LOC العاصمة/O واحدة/O من/O أجمل/O مدن/O البحر/O الأبيض/O المتوسط/O ،/O حيث/O تجمع/O بين/O التاريخ/O العريق/O والحياة/O العصرية/O ./O زارها/O الصحفي/O الفرنسي/O جان/B-PERS بيير/I-PERS مؤخرا/O ،/O وعبر/O عن/O إعجابه/O بشوارعها/O الواسعة/O ومعالمها/O التاريخية/O مثل/O مقام/O الشهيد/O وقصر/O الرياس/O ./O في/O تقريره/O لصحيفة/O \"/O لوموند/B-ORG \"/O ،/O كتب/O :/O \"/O الجزائر/B-LOC مدينة/O ساحرة/O ،/O لكن/O الازدحام/O المروري/O يشكل/O تحديا/O كبيرا/O لسكانها/O \"/O\n",
      "في/O الشرق/O ،/O تعرف/O قسنطينة/B-LOC بلقب/O \"/O مدينة/O الجسور/O المعلقة/O \"/O ./O قال/O الدكتور/O محمد/B-PERS بن/I-PERS علي/I-PERS ،/O أستاذ/O التاريخ/O في/O جامعة/O قسنطينة/B-LOC ،/O إن/O المدينة/O تحتفظ/O بطابعها/O الثقافي/O الفريد/O رغم/O التغيرات/O الحديثة/O ./O من/O جهته/O ،/O صرح/O السائح/O الإسباني/O مانويل/B-PERS غارسيا/I-PERS :/O \"/O لطالما/O سمعت/O عن/O جمال/O قسنطينة/B-LOC ،/O لكن/O رؤيتها/O على/O الطبيعة/O كانت/O تجربة/O مذهلة/O !/O \"/O\n",
      "أما/O في/O الغرب/O ،/O فتعرف/O وهران/B-LOC بمهرجانها/O الموسيقي/O السنوي/O الذي/O يجذب/O فنانين/O عالميين/O ./O وصف/O الناقد/O الموسيقي/O فريد/B-PERS العياشي/I-PERS المهرجان/O بقوله/O :/O \"/O وهران/O تبقى/O عاصمة/O الفن/O الجزائري/O بلا/O منازع/O !/O \"/O رغم/O ذلك/O ،/O أشار/O البعض/O إلى/O أن/O البنية/O التحتية/O تحتاج/O إلى/O تحسين/O لمواكبة/O التطور/O السياحي/O ./O\n"
     ]
    }
   ],
   "source": [
    "named_entity_recognizer = FarasaNamedEntityRecognizer()\n",
    "named_entity_recognized = named_entity_recognizer.recognize(sample)\n",
    "print(\"sample named entity recognized:\",named_entity_recognized)"
   ]
  }
 ],
 "metadata": {
  "kernelspec": {
   "display_name": "Python 3",
   "language": "python",
   "name": "python3"
  },
  "language_info": {
   "codemirror_mode": {
    "name": "ipython",
    "version": 3
   },
   "file_extension": ".py",
   "mimetype": "text/x-python",
   "name": "python",
   "nbconvert_exporter": "python",
   "pygments_lexer": "ipython3",
   "version": "3.13.0"
  }
 },
 "nbformat": 4,
 "nbformat_minor": 2
}

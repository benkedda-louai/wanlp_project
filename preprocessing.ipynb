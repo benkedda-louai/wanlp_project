{
 "cells": [
  {
   "cell_type": "markdown",
   "metadata": {},
   "source": [
    "### Fake News Detector"
   ]
  },
  {
   "cell_type": "markdown",
   "metadata": {},
   "source": [
    "#### Import Necessary Libraries"
   ]
  },
  {
   "cell_type": "code",
   "execution_count": 1,
   "metadata": {},
   "outputs": [],
   "source": [
    "import pandas as pd\n",
    "import numpy as np\n",
    "import nltk\n",
    "import re\n",
    "from farasa.segmenter import FarasaSegmenter\n",
    "from farasa.stemmer import FarasaStemmer\n",
    "from farasa.pos import FarasaPOSTagger\n",
    "from farasa.ner import FarasaNamedEntityRecognizer\n",
    "from tqdm import tqdm"
   ]
  },
  {
   "cell_type": "markdown",
   "metadata": {},
   "source": [
    "#### Load Data Set"
   ]
  },
  {
   "cell_type": "code",
   "execution_count": 2,
   "metadata": {},
   "outputs": [],
   "source": [
    "# put the path for the data set here\n",
    "path = 'data_set/train_set.csv'\n",
    "df = pd.read_csv(path, encoding='utf-8')\n",
    "df = df.head(1000)  # For testing, use only the first 1000 rows\n",
    "df = df.dropna(subset=['text'])  # Drop rows where 'text' is NaN"
   ]
  },
  {
   "cell_type": "code",
   "execution_count": 3,
   "metadata": {},
   "outputs": [
    {
     "data": {
      "text/plain": [
       "(1000, 3)"
      ]
     },
     "execution_count": 3,
     "metadata": {},
     "output_type": "execute_result"
    }
   ],
   "source": [
    "df.shape"
   ]
  },
  {
   "cell_type": "code",
   "execution_count": 4,
   "metadata": {},
   "outputs": [
    {
     "data": {
      "text/html": [
       "<div>\n",
       "<style scoped>\n",
       "    .dataframe tbody tr th:only-of-type {\n",
       "        vertical-align: middle;\n",
       "    }\n",
       "\n",
       "    .dataframe tbody tr th {\n",
       "        vertical-align: top;\n",
       "    }\n",
       "\n",
       "    .dataframe thead th {\n",
       "        text-align: right;\n",
       "    }\n",
       "</style>\n",
       "<table border=\"1\" class=\"dataframe\">\n",
       "  <thead>\n",
       "    <tr style=\"text-align: right;\">\n",
       "      <th></th>\n",
       "      <th>label</th>\n",
       "      <th>source</th>\n",
       "      <th>text</th>\n",
       "    </tr>\n",
       "  </thead>\n",
       "  <tbody>\n",
       "    <tr>\n",
       "      <th>0</th>\n",
       "      <td>1</td>\n",
       "      <td>translated</td>\n",
       "      <td>شى بوتين يوافق علا التعامل بشكل مناسب معا تجرب...</td>\n",
       "    </tr>\n",
       "    <tr>\n",
       "      <th>1</th>\n",
       "      <td>0</td>\n",
       "      <td>youtube</td>\n",
       "      <td>لكذب فوجه بنادم بركاو من لكذب</td>\n",
       "    </tr>\n",
       "    <tr>\n",
       "      <th>2</th>\n",
       "      <td>0</td>\n",
       "      <td>youtube</td>\n",
       "      <td>الحمدالله رب العالمين بسم الله مشاءالله و لا ح...</td>\n",
       "    </tr>\n",
       "    <tr>\n",
       "      <th>3</th>\n",
       "      <td>0</td>\n",
       "      <td>translated</td>\n",
       "      <td>حلفاء جباجبو وراء الهجمات على وزير داخلية ساحل...</td>\n",
       "    </tr>\n",
       "    <tr>\n",
       "      <th>4</th>\n",
       "      <td>0</td>\n",
       "      <td>translated</td>\n",
       "      <td>السيطرة على المعلومات تغير طريقها فالفترة الي ...</td>\n",
       "    </tr>\n",
       "  </tbody>\n",
       "</table>\n",
       "</div>"
      ],
      "text/plain": [
       "   label      source                                               text\n",
       "0      1  translated  شى بوتين يوافق علا التعامل بشكل مناسب معا تجرب...\n",
       "1      0     youtube                      لكذب فوجه بنادم بركاو من لكذب\n",
       "2      0     youtube  الحمدالله رب العالمين بسم الله مشاءالله و لا ح...\n",
       "3      0  translated  حلفاء جباجبو وراء الهجمات على وزير داخلية ساحل...\n",
       "4      0  translated  السيطرة على المعلومات تغير طريقها فالفترة الي ..."
      ]
     },
     "execution_count": 4,
     "metadata": {},
     "output_type": "execute_result"
    }
   ],
   "source": [
    "df.head()"
   ]
  },
  {
   "cell_type": "code",
   "execution_count": 5,
   "metadata": {},
   "outputs": [
    {
     "data": {
      "text/html": [
       "<div>\n",
       "<style scoped>\n",
       "    .dataframe tbody tr th:only-of-type {\n",
       "        vertical-align: middle;\n",
       "    }\n",
       "\n",
       "    .dataframe tbody tr th {\n",
       "        vertical-align: top;\n",
       "    }\n",
       "\n",
       "    .dataframe thead th {\n",
       "        text-align: right;\n",
       "    }\n",
       "</style>\n",
       "<table border=\"1\" class=\"dataframe\">\n",
       "  <thead>\n",
       "    <tr style=\"text-align: right;\">\n",
       "      <th></th>\n",
       "      <th>label</th>\n",
       "    </tr>\n",
       "  </thead>\n",
       "  <tbody>\n",
       "    <tr>\n",
       "      <th>count</th>\n",
       "      <td>1000.000000</td>\n",
       "    </tr>\n",
       "    <tr>\n",
       "      <th>mean</th>\n",
       "      <td>0.456000</td>\n",
       "    </tr>\n",
       "    <tr>\n",
       "      <th>std</th>\n",
       "      <td>0.498309</td>\n",
       "    </tr>\n",
       "    <tr>\n",
       "      <th>min</th>\n",
       "      <td>0.000000</td>\n",
       "    </tr>\n",
       "    <tr>\n",
       "      <th>25%</th>\n",
       "      <td>0.000000</td>\n",
       "    </tr>\n",
       "    <tr>\n",
       "      <th>50%</th>\n",
       "      <td>0.000000</td>\n",
       "    </tr>\n",
       "    <tr>\n",
       "      <th>75%</th>\n",
       "      <td>1.000000</td>\n",
       "    </tr>\n",
       "    <tr>\n",
       "      <th>max</th>\n",
       "      <td>1.000000</td>\n",
       "    </tr>\n",
       "  </tbody>\n",
       "</table>\n",
       "</div>"
      ],
      "text/plain": [
       "             label\n",
       "count  1000.000000\n",
       "mean      0.456000\n",
       "std       0.498309\n",
       "min       0.000000\n",
       "25%       0.000000\n",
       "50%       0.000000\n",
       "75%       1.000000\n",
       "max       1.000000"
      ]
     },
     "execution_count": 5,
     "metadata": {},
     "output_type": "execute_result"
    }
   ],
   "source": [
    "df.describe()"
   ]
  },
  {
   "cell_type": "code",
   "execution_count": 6,
   "metadata": {},
   "outputs": [
    {
     "name": "stdout",
     "output_type": "stream",
     "text": [
      "<class 'pandas.core.frame.DataFrame'>\n",
      "RangeIndex: 1000 entries, 0 to 999\n",
      "Data columns (total 3 columns):\n",
      " #   Column  Non-Null Count  Dtype \n",
      "---  ------  --------------  ----- \n",
      " 0   label   1000 non-null   int64 \n",
      " 1   source  1000 non-null   object\n",
      " 2   text    1000 non-null   object\n",
      "dtypes: int64(1), object(2)\n",
      "memory usage: 23.6+ KB\n"
     ]
    }
   ],
   "source": [
    "df.info()"
   ]
  },
  {
   "cell_type": "code",
   "execution_count": 7,
   "metadata": {},
   "outputs": [
    {
     "data": {
      "text/plain": [
       "Index(['label', 'source', 'text'], dtype='object')"
      ]
     },
     "execution_count": 7,
     "metadata": {},
     "output_type": "execute_result"
    }
   ],
   "source": [
    "df.columns"
   ]
  },
  {
   "cell_type": "code",
   "execution_count": 8,
   "metadata": {},
   "outputs": [
    {
     "name": "stdout",
     "output_type": "stream",
     "text": [
      "Number of null rows: 0\n",
      "Number of duplicated rows: 0\n"
     ]
    }
   ],
   "source": [
    "# Count null rows\n",
    "null_rows_count = df.isnull().sum().sum()\n",
    "print(f\"Number of null rows: {null_rows_count}\")\n",
    "\n",
    "# Count duplicated rows\n",
    "duplicated_rows_count = df.duplicated().sum()\n",
    "print(f\"Number of duplicated rows: {duplicated_rows_count}\")"
   ]
  },
  {
   "cell_type": "markdown",
   "metadata": {},
   "source": [
    "## NLP Processing"
   ]
  },
  {
   "cell_type": "markdown",
   "metadata": {},
   "source": [
    "#### Text Cleaning"
   ]
  },
  {
   "cell_type": "code",
   "execution_count": 9,
   "metadata": {},
   "outputs": [
    {
     "name": "stderr",
     "output_type": "stream",
     "text": [
      "Normalizing Text: 100%|██████████| 1000/1000 [00:00<00:00, 60551.83it/s]\n",
      "Removing Stopwords: 100%|██████████| 1000/1000 [00:00<00:00, 125868.14it/s]"
     ]
    },
    {
     "name": "stdout",
     "output_type": "stream",
     "text": [
      "✅ Cleaning complete! Saved as 'cleaned_dataset.csv'\n"
     ]
    },
    {
     "name": "stderr",
     "output_type": "stream",
     "text": [
      "\n"
     ]
    }
   ],
   "source": [
    "# Load custom Arabic stopwords from file\n",
    "with open(\"./data_set/algerian_arabic_stopwords.txt\", \"r\", encoding=\"utf-8\") as f:\n",
    "    custom_stopwords = set(word.strip() for word in f.readlines())\n",
    "\n",
    "# -------------------------\n",
    "# Text Normalization Function\n",
    "def normalize_arabic(text):\n",
    "    text = re.sub(r\"[إأآٱ]\", \"ا\", text)\n",
    "    text = re.sub(\"ى\", \"ي\", text)\n",
    "    text = re.sub(\"ة\", \"ه\", text)\n",
    "    text = re.sub(\"[ًٌٍَُِّْ]\", \"\", text)  # Remove diacritics\n",
    "    return text\n",
    "\n",
    "tqdm.pandas(desc=\"Normalizing Text\")\n",
    "df[\"normalized_text\"] = df[\"text\"].progress_apply(normalize_arabic)\n",
    "\n",
    "# -------------------------\n",
    "# Stopword Removal\n",
    "def remove_stopwords(text):\n",
    "    words = text.split()\n",
    "    return \" \".join([word for word in words if word not in custom_stopwords])\n",
    "\n",
    "tqdm.pandas(desc=\"Removing Stopwords\")\n",
    "df[\"cleaned_text\"] = df[\"normalized_text\"].progress_apply(remove_stopwords)\n",
    "\n",
    "# -------------------------\n",
    "# Spelling Correction\n",
    "\n",
    "# Save Cleaned Dataset\n",
    "df.to_csv(\"cleaned_dataset.csv\", index=False, encoding=\"utf-8-sig\")\n",
    "print(\"✅ Cleaning complete! Saved as 'cleaned_dataset.csv'\")"
   ]
  },
  {
   "cell_type": "markdown",
   "metadata": {},
   "source": [
    "### Initialize Farasa Tools"
   ]
  },
  {
   "cell_type": "code",
   "execution_count": 10,
   "metadata": {},
   "outputs": [],
   "source": [
    "# Initialize Farasa tools\n",
    "segmenter = FarasaSegmenter()\n",
    "pos_tagger = FarasaPOSTagger()\n",
    "ner = FarasaNamedEntityRecognizer()\n",
    "stemmer = FarasaStemmer()"
   ]
  },
  {
   "cell_type": "code",
   "execution_count": 11,
   "metadata": {},
   "outputs": [
    {
     "data": {
      "text/html": [
       "<div>\n",
       "<style scoped>\n",
       "    .dataframe tbody tr th:only-of-type {\n",
       "        vertical-align: middle;\n",
       "    }\n",
       "\n",
       "    .dataframe tbody tr th {\n",
       "        vertical-align: top;\n",
       "    }\n",
       "\n",
       "    .dataframe thead th {\n",
       "        text-align: right;\n",
       "    }\n",
       "</style>\n",
       "<table border=\"1\" class=\"dataframe\">\n",
       "  <thead>\n",
       "    <tr style=\"text-align: right;\">\n",
       "      <th></th>\n",
       "      <th>label</th>\n",
       "      <th>source</th>\n",
       "      <th>text</th>\n",
       "      <th>normalized_text</th>\n",
       "      <th>cleaned_text</th>\n",
       "    </tr>\n",
       "  </thead>\n",
       "  <tbody>\n",
       "    <tr>\n",
       "      <th>0</th>\n",
       "      <td>1</td>\n",
       "      <td>translated</td>\n",
       "      <td>شى بوتين يوافق علا التعامل بشكل مناسب معا تجرب...</td>\n",
       "      <td>شي بوتين يوافق علا التعامل بشكل مناسب معا تجرب...</td>\n",
       "      <td>شي بوتين يوافق علا التعامل بشكل مناسب معا تجرب...</td>\n",
       "    </tr>\n",
       "    <tr>\n",
       "      <th>1</th>\n",
       "      <td>0</td>\n",
       "      <td>youtube</td>\n",
       "      <td>لكذب فوجه بنادم بركاو من لكذب</td>\n",
       "      <td>لكذب فوجه بنادم بركاو من لكذب</td>\n",
       "      <td>لكذب فوجه بنادم بركاو لكذب</td>\n",
       "    </tr>\n",
       "    <tr>\n",
       "      <th>2</th>\n",
       "      <td>0</td>\n",
       "      <td>youtube</td>\n",
       "      <td>الحمدالله رب العالمين بسم الله مشاءالله و لا ح...</td>\n",
       "      <td>الحمدالله رب العالمين بسم الله مشاءالله و لا ح...</td>\n",
       "      <td>الحمدالله رب العالمين بسم الله مشاءالله حولا ق...</td>\n",
       "    </tr>\n",
       "    <tr>\n",
       "      <th>3</th>\n",
       "      <td>0</td>\n",
       "      <td>translated</td>\n",
       "      <td>حلفاء جباجبو وراء الهجمات على وزير داخلية ساحل...</td>\n",
       "      <td>حلفاء جباجبو وراء الهجمات علي وزير داخليه ساحل...</td>\n",
       "      <td>حلفاء جباجبو وراء الهجمات علي وزير داخليه ساحل...</td>\n",
       "    </tr>\n",
       "    <tr>\n",
       "      <th>4</th>\n",
       "      <td>0</td>\n",
       "      <td>translated</td>\n",
       "      <td>السيطرة على المعلومات تغير طريقها فالفترة الي ...</td>\n",
       "      <td>السيطره علي المعلومات تغير طريقها فالفتره الي ...</td>\n",
       "      <td>السيطره علي المعلومات تغير طريقها فالفتره تسبق...</td>\n",
       "    </tr>\n",
       "  </tbody>\n",
       "</table>\n",
       "</div>"
      ],
      "text/plain": [
       "   label      source                                               text  \\\n",
       "0      1  translated  شى بوتين يوافق علا التعامل بشكل مناسب معا تجرب...   \n",
       "1      0     youtube                      لكذب فوجه بنادم بركاو من لكذب   \n",
       "2      0     youtube  الحمدالله رب العالمين بسم الله مشاءالله و لا ح...   \n",
       "3      0  translated  حلفاء جباجبو وراء الهجمات على وزير داخلية ساحل...   \n",
       "4      0  translated  السيطرة على المعلومات تغير طريقها فالفترة الي ...   \n",
       "\n",
       "                                     normalized_text  \\\n",
       "0  شي بوتين يوافق علا التعامل بشكل مناسب معا تجرب...   \n",
       "1                      لكذب فوجه بنادم بركاو من لكذب   \n",
       "2  الحمدالله رب العالمين بسم الله مشاءالله و لا ح...   \n",
       "3  حلفاء جباجبو وراء الهجمات علي وزير داخليه ساحل...   \n",
       "4  السيطره علي المعلومات تغير طريقها فالفتره الي ...   \n",
       "\n",
       "                                        cleaned_text  \n",
       "0  شي بوتين يوافق علا التعامل بشكل مناسب معا تجرب...  \n",
       "1                         لكذب فوجه بنادم بركاو لكذب  \n",
       "2  الحمدالله رب العالمين بسم الله مشاءالله حولا ق...  \n",
       "3  حلفاء جباجبو وراء الهجمات علي وزير داخليه ساحل...  \n",
       "4  السيطره علي المعلومات تغير طريقها فالفتره تسبق...  "
      ]
     },
     "execution_count": 11,
     "metadata": {},
     "output_type": "execute_result"
    }
   ],
   "source": [
    "# Load cleaned dataset\n",
    "df = pd.read_csv(\"cleaned_dataset.csv\")\n",
    "df.head()"
   ]
  },
  {
   "cell_type": "code",
   "execution_count": null,
   "metadata": {},
   "outputs": [
    {
     "name": "stderr",
     "output_type": "stream",
     "text": [
      "Tokenizing Text: 100%|██████████| 1000/1000 [54:45<00:00,  3.29s/it]"
     ]
    },
    {
     "name": "stdout",
     "output_type": "stream",
     "text": [
      "✅ Tokenization & Analysis complete! Saved as 'processed_dataset.csv'\n"
     ]
    },
    {
     "name": "stderr",
     "output_type": "stream",
     "text": [
      "\n"
     ]
    }
   ],
   "source": [
    "# -------------------------\n",
    "# Tokenization\n",
    "def tokenize_text(text):\n",
    "    return segmenter.segment(text).split()\n",
    "\n",
    "tqdm.pandas(desc=\"Tokenizing Text\")\n",
    "df[\"tokens\"] = df[\"cleaned_text\"].progress_apply(tokenize_text)\n",
    "# -------------------------\n",
    "# Save Processed Dataset\n",
    "df.to_csv(\"processed_dataset.csv\", index=False, encoding=\"utf-8-sig\")\n",
    "print(\"✅ Tokenization & Analysis complete! Saved as 'processed_dataset.csv'\")"
   ]
  },
  {
   "cell_type": "code",
   "execution_count": 13,
   "metadata": {},
   "outputs": [
    {
     "data": {
      "text/html": [
       "<div>\n",
       "<style scoped>\n",
       "    .dataframe tbody tr th:only-of-type {\n",
       "        vertical-align: middle;\n",
       "    }\n",
       "\n",
       "    .dataframe tbody tr th {\n",
       "        vertical-align: top;\n",
       "    }\n",
       "\n",
       "    .dataframe thead th {\n",
       "        text-align: right;\n",
       "    }\n",
       "</style>\n",
       "<table border=\"1\" class=\"dataframe\">\n",
       "  <thead>\n",
       "    <tr style=\"text-align: right;\">\n",
       "      <th></th>\n",
       "      <th>label</th>\n",
       "      <th>source</th>\n",
       "      <th>text</th>\n",
       "      <th>normalized_text</th>\n",
       "      <th>cleaned_text</th>\n",
       "      <th>tokens</th>\n",
       "    </tr>\n",
       "  </thead>\n",
       "  <tbody>\n",
       "    <tr>\n",
       "      <th>0</th>\n",
       "      <td>1</td>\n",
       "      <td>translated</td>\n",
       "      <td>شى بوتين يوافق علا التعامل بشكل مناسب معا تجرب...</td>\n",
       "      <td>شي بوتين يوافق علا التعامل بشكل مناسب معا تجرب...</td>\n",
       "      <td>شي بوتين يوافق علا التعامل بشكل مناسب معا تجرب...</td>\n",
       "      <td>['شي', 'بوتين', 'يوافق', 'علا', 'ال+تعامل', 'ب...</td>\n",
       "    </tr>\n",
       "    <tr>\n",
       "      <th>1</th>\n",
       "      <td>0</td>\n",
       "      <td>youtube</td>\n",
       "      <td>لكذب فوجه بنادم بركاو من لكذب</td>\n",
       "      <td>لكذب فوجه بنادم بركاو من لكذب</td>\n",
       "      <td>لكذب فوجه بنادم بركاو لكذب</td>\n",
       "      <td>['ل+كذب', 'فوج+ه', 'ب+نادم', 'ب+ركاو', 'ل+كذب']</td>\n",
       "    </tr>\n",
       "    <tr>\n",
       "      <th>2</th>\n",
       "      <td>0</td>\n",
       "      <td>youtube</td>\n",
       "      <td>الحمدالله رب العالمين بسم الله مشاءالله و لا ح...</td>\n",
       "      <td>الحمدالله رب العالمين بسم الله مشاءالله و لا ح...</td>\n",
       "      <td>الحمدالله رب العالمين بسم الله مشاءالله حولا ق...</td>\n",
       "      <td>['ال+حمدالله', 'رب', 'ال+عالم+ين', 'بسم', 'الل...</td>\n",
       "    </tr>\n",
       "    <tr>\n",
       "      <th>3</th>\n",
       "      <td>0</td>\n",
       "      <td>translated</td>\n",
       "      <td>حلفاء جباجبو وراء الهجمات على وزير داخلية ساحل...</td>\n",
       "      <td>حلفاء جباجبو وراء الهجمات علي وزير داخليه ساحل...</td>\n",
       "      <td>حلفاء جباجبو وراء الهجمات علي وزير داخليه ساحل...</td>\n",
       "      <td>['حلفاء', 'جباجبو', 'وراء', 'ال+هجم+ات', 'علي'...</td>\n",
       "    </tr>\n",
       "    <tr>\n",
       "      <th>4</th>\n",
       "      <td>0</td>\n",
       "      <td>translated</td>\n",
       "      <td>السيطرة على المعلومات تغير طريقها فالفترة الي ...</td>\n",
       "      <td>السيطره علي المعلومات تغير طريقها فالفتره الي ...</td>\n",
       "      <td>السيطره علي المعلومات تغير طريقها فالفتره تسبق...</td>\n",
       "      <td>['ال+سيطره', 'علي', 'ال+معلوم+ات', 'تغير', 'طر...</td>\n",
       "    </tr>\n",
       "  </tbody>\n",
       "</table>\n",
       "</div>"
      ],
      "text/plain": [
       "   label      source                                               text  \\\n",
       "0      1  translated  شى بوتين يوافق علا التعامل بشكل مناسب معا تجرب...   \n",
       "1      0     youtube                      لكذب فوجه بنادم بركاو من لكذب   \n",
       "2      0     youtube  الحمدالله رب العالمين بسم الله مشاءالله و لا ح...   \n",
       "3      0  translated  حلفاء جباجبو وراء الهجمات على وزير داخلية ساحل...   \n",
       "4      0  translated  السيطرة على المعلومات تغير طريقها فالفترة الي ...   \n",
       "\n",
       "                                     normalized_text  \\\n",
       "0  شي بوتين يوافق علا التعامل بشكل مناسب معا تجرب...   \n",
       "1                      لكذب فوجه بنادم بركاو من لكذب   \n",
       "2  الحمدالله رب العالمين بسم الله مشاءالله و لا ح...   \n",
       "3  حلفاء جباجبو وراء الهجمات علي وزير داخليه ساحل...   \n",
       "4  السيطره علي المعلومات تغير طريقها فالفتره الي ...   \n",
       "\n",
       "                                        cleaned_text  \\\n",
       "0  شي بوتين يوافق علا التعامل بشكل مناسب معا تجرب...   \n",
       "1                         لكذب فوجه بنادم بركاو لكذب   \n",
       "2  الحمدالله رب العالمين بسم الله مشاءالله حولا ق...   \n",
       "3  حلفاء جباجبو وراء الهجمات علي وزير داخليه ساحل...   \n",
       "4  السيطره علي المعلومات تغير طريقها فالفتره تسبق...   \n",
       "\n",
       "                                              tokens  \n",
       "0  ['شي', 'بوتين', 'يوافق', 'علا', 'ال+تعامل', 'ب...  \n",
       "1    ['ل+كذب', 'فوج+ه', 'ب+نادم', 'ب+ركاو', 'ل+كذب']  \n",
       "2  ['ال+حمدالله', 'رب', 'ال+عالم+ين', 'بسم', 'الل...  \n",
       "3  ['حلفاء', 'جباجبو', 'وراء', 'ال+هجم+ات', 'علي'...  \n",
       "4  ['ال+سيطره', 'علي', 'ال+معلوم+ات', 'تغير', 'طر...  "
      ]
     },
     "execution_count": 13,
     "metadata": {},
     "output_type": "execute_result"
    }
   ],
   "source": [
    "preprocessing_df = pd.read_csv(\"processed_dataset.csv\")\n",
    "preprocessing_df.head()"
   ]
  },
  {
   "cell_type": "code",
   "execution_count": 19,
   "metadata": {},
   "outputs": [
    {
     "name": "stderr",
     "output_type": "stream",
     "text": [
      "Stemming: 100%|██████████| 1000/1000 [1:06:08<00:00,  3.97s/it]\n"
     ]
    }
   ],
   "source": [
    "# Apply stemming using the normalized_text\n",
    "tqdm.pandas(desc=\"Stemming\")\n",
    "preprocessing_df[\"stemmed_tokens\"] = preprocessing_df[\"normalized_text\"].progress_apply(lambda text: stemmer.stem(text))\n",
    "preprocessing_df[\"stemmed_tokens\"] = preprocessing_df[\"stemmed_tokens\"].apply(lambda text: text.split())"
   ]
  },
  {
   "cell_type": "code",
   "execution_count": 24,
   "metadata": {},
   "outputs": [
    {
     "name": "stdout",
     "output_type": "stream",
     "text": [
      "✅ Done! Output saved as 'processed_with_stemming_pos.csv'\n"
     ]
    }
   ],
   "source": [
    "# Save results\n",
    "preprocessing_df.to_csv(\"processed_with_stemming_pos.csv\", index=False, encoding=\"utf-8-sig\")\n",
    "print(\"✅ Done! Output saved as 'processed_with_stemming_pos.csv'\")"
   ]
  }
 ],
 "metadata": {
  "kernelspec": {
   "display_name": "Python 3",
   "language": "python",
   "name": "python3"
  },
  "language_info": {
   "codemirror_mode": {
    "name": "ipython",
    "version": 3
   },
   "file_extension": ".py",
   "mimetype": "text/x-python",
   "name": "python",
   "nbconvert_exporter": "python",
   "pygments_lexer": "ipython3",
   "version": "3.13.0"
  }
 },
 "nbformat": 4,
 "nbformat_minor": 2
}

{
 "cells": [
  {
   "cell_type": "markdown",
   "id": "77485cf5",
   "metadata": {},
   "source": [
    "### Load necessary libraries"
   ]
  },
  {
   "cell_type": "code",
   "execution_count": 17,
   "id": "a9e9d962",
   "metadata": {},
   "outputs": [
    {
     "name": "stdout",
     "output_type": "stream",
     "text": [
      "^C\n"
     ]
    }
   ],
   "source": [
    "!pip install sentence_transformers"
   ]
  },
  {
   "cell_type": "code",
   "execution_count": null,
   "id": "764035f9",
   "metadata": {},
   "outputs": [
    {
     "name": "stderr",
     "output_type": "stream",
     "text": [
      "c:\\Users\\shifttech\\AppData\\Local\\Programs\\Python\\Python313\\Lib\\site-packages\\tqdm\\auto.py:21: TqdmWarning: IProgress not found. Please update jupyter and ipywidgets. See https://ipywidgets.readthedocs.io/en/stable/user_install.html\n",
      "  from .autonotebook import tqdm as notebook_tqdm\n"
     ]
    }
   ],
   "source": [
    "from transformers import AutoTokenizer, AutoModelForSequenceClassification\n",
    "import torch"
   ]
  },
  {
   "cell_type": "code",
   "execution_count": null,
   "id": "615ad21a",
   "metadata": {},
   "outputs": [],
   "source": [
    "# Load the model from the local path\n",
    "model_path = \"./arabic-news-classifier\"  # Adjust if your path is different\n",
    "\n",
    "tokenizer = AutoTokenizer.from_pretrained(model_path)\n",
    "model = AutoModelForSequenceClassification.from_pretrained(model_path)"
   ]
  },
  {
   "cell_type": "code",
   "execution_count": null,
   "id": "5fc8d105",
   "metadata": {},
   "outputs": [],
   "source": []
  },
  {
   "cell_type": "code",
   "execution_count": 18,
   "id": "379abfbf",
   "metadata": {},
   "outputs": [
    {
     "name": "stdout",
     "output_type": "stream",
     "text": [
      "Segmented Text: ال+جزائر تتاهل الي كاس ال+عالم 2022 بعد فوز+ها علي ال+كاميرون\n"
     ]
    }
   ],
   "source": [
    "import re\n",
    "from farasa.segmenter import FarasaSegmenter\n",
    "\n",
    "# Initialize Farasa segmenter\n",
    "segmenter = FarasaSegmenter()\n",
    "\n",
    "# Normalize Arabic text\n",
    "def normalize_arabic(text):\n",
    "    text = re.sub(r\"http\\S+|www\\S+|https\\S+\", \"\", text)  # Remove URLs\n",
    "    text = re.sub(r\"<.*?>\", \"\", text)                    # Remove HTML tags\n",
    "    text = re.sub(r\"[^\\w\\s,]\", \"\", text, flags=re.UNICODE)  # Remove emojis\n",
    "    text = re.sub(r\"[إأآٱ]\", \"ا\", text)\n",
    "    text = re.sub(\"ى\", \"ي\", text)\n",
    "    text = re.sub(\"ة\", \"ه\", text)\n",
    "    text = re.sub(\"[ًٌٍَُِّْ]\", \"\", text)  # Remove diacritics\n",
    "    text = re.sub(r\"[^\\w\\s]\", \"\", text)   # Remove punctuation\n",
    "    return text.strip()\n",
    "\n",
    "# Segment text using Farasa\n",
    "def segment_text(text):\n",
    "    return segmenter.segment(text)\n",
    "\n",
    "# Preprocess your text\n",
    "input_text = \"الجزائر تتأهل إلى كأس العالم 2022 بعد فوزها على الكاميرون\"\n",
    "normalized_text = normalize_arabic(input_text)\n",
    "segmented_text = segment_text(normalized_text)\n",
    "\n",
    "print(\"Segmented Text:\", segmented_text)\n"
   ]
  },
  {
   "cell_type": "code",
   "execution_count": 19,
   "id": "5aaeaaae",
   "metadata": {},
   "outputs": [],
   "source": [
    "def predict(text):\n",
    "    inputs = tokenizer(text, return_tensors=\"pt\", truncation=True, padding=True, max_length=512)\n",
    "    with torch.no_grad():\n",
    "        outputs = model(**inputs)\n",
    "    logits = outputs.logits\n",
    "    predicted_class_id = torch.argmax(logits, dim=1).item()\n",
    "    return predicted_class_id"
   ]
  },
  {
   "cell_type": "code",
   "execution_count": 20,
   "id": "a5bb8d71",
   "metadata": {},
   "outputs": [
    {
     "name": "stdout",
     "output_type": "stream",
     "text": [
      "Input text: الجزائر تتأهل إلى كأس العالم 2022 بعد فوزها على الكاميرون\n",
      "Normalized text: الجزائر تتاهل الي كاس العالم 2022 بعد فوزها علي الكاميرون\n",
      "Segmented text: ال+جزائر تتاهل الي كاس ال+عالم 2022 بعد فوز+ها علي ال+كاميرون\n",
      "Predicted class ID: 1\n",
      "Predicted label: fake\n"
     ]
    }
   ],
   "source": [
    "prediction = predict(normalized_text)\n",
    "\n",
    "label_map = {0: \"real\", 1: \"fake\"}  # or whatever your labels were\n",
    "print(f\"Input text: {input_text}\")\n",
    "print(f\"Normalized text: {normalized_text}\")\n",
    "print(f\"Segmented text: {segmented_text}\")\n",
    "print(f\"Predicted class ID: {prediction}\")\n",
    "print(f\"Predicted label: {label_map[prediction]}\")"
   ]
  }
 ],
 "metadata": {
  "kernelspec": {
   "display_name": "Python 3",
   "language": "python",
   "name": "python3"
  },
  "language_info": {
   "codemirror_mode": {
    "name": "ipython",
    "version": 3
   },
   "file_extension": ".py",
   "mimetype": "text/x-python",
   "name": "python",
   "nbconvert_exporter": "python",
   "pygments_lexer": "ipython3",
   "version": "3.13.0"
  }
 },
 "nbformat": 4,
 "nbformat_minor": 5
}
